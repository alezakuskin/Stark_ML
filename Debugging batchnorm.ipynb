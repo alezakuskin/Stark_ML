{
  "nbformat": 4,
  "nbformat_minor": 0,
  "metadata": {
    "colab": {
      "name": "Creating classes.ipynb",
      "provenance": [],
      "collapsed_sections": [
        "E5MrtNW8V1KJ"
      ]
    },
    "kernelspec": {
      "name": "python3",
      "display_name": "Python 3"
    },
    "language_info": {
      "name": "python"
    },
    "accelerator": "GPU",
    "widgets": {
      "application/vnd.jupyter.widget-state+json": {
        "f2a7d4b116a242d4ba2826de4466d7ae": {
          "model_module": "@jupyter-widgets/controls",
          "model_name": "HBoxModel",
          "model_module_version": "1.5.0",
          "state": {
            "_dom_classes": [],
            "_model_module": "@jupyter-widgets/controls",
            "_model_module_version": "1.5.0",
            "_model_name": "HBoxModel",
            "_view_count": null,
            "_view_module": "@jupyter-widgets/controls",
            "_view_module_version": "1.5.0",
            "_view_name": "HBoxView",
            "box_style": "",
            "children": [
              "IPY_MODEL_13100b10ae5c47a89c720d52a6bbdcba",
              "IPY_MODEL_105e294596c14ce98b448aef9497089f",
              "IPY_MODEL_d3779e8556e0468fa68c84ec252c8712"
            ],
            "layout": "IPY_MODEL_329c68320fb742a492c37422b9d81dd2"
          }
        },
        "13100b10ae5c47a89c720d52a6bbdcba": {
          "model_module": "@jupyter-widgets/controls",
          "model_name": "HTMLModel",
          "model_module_version": "1.5.0",
          "state": {
            "_dom_classes": [],
            "_model_module": "@jupyter-widgets/controls",
            "_model_module_version": "1.5.0",
            "_model_name": "HTMLModel",
            "_view_count": null,
            "_view_module": "@jupyter-widgets/controls",
            "_view_module_version": "1.5.0",
            "_view_name": "HTMLView",
            "description": "",
            "description_tooltip": null,
            "layout": "IPY_MODEL_e263d91d93a2448387a8f1b5c69ebd0b",
            "placeholder": "​",
            "style": "IPY_MODEL_8e4b0a124cec4d5180cfc0ccd607fa15",
            "value": "  0%"
          }
        },
        "105e294596c14ce98b448aef9497089f": {
          "model_module": "@jupyter-widgets/controls",
          "model_name": "FloatProgressModel",
          "model_module_version": "1.5.0",
          "state": {
            "_dom_classes": [],
            "_model_module": "@jupyter-widgets/controls",
            "_model_module_version": "1.5.0",
            "_model_name": "FloatProgressModel",
            "_view_count": null,
            "_view_module": "@jupyter-widgets/controls",
            "_view_module_version": "1.5.0",
            "_view_name": "ProgressView",
            "bar_style": "",
            "description": "",
            "description_tooltip": null,
            "layout": "IPY_MODEL_b65c6d34a24b49ba9e19945a6844b763",
            "max": 50,
            "min": 0,
            "orientation": "horizontal",
            "style": "IPY_MODEL_d0e113895b2c49a4bffe18e7b4a44327",
            "value": 0
          }
        },
        "d3779e8556e0468fa68c84ec252c8712": {
          "model_module": "@jupyter-widgets/controls",
          "model_name": "HTMLModel",
          "model_module_version": "1.5.0",
          "state": {
            "_dom_classes": [],
            "_model_module": "@jupyter-widgets/controls",
            "_model_module_version": "1.5.0",
            "_model_name": "HTMLModel",
            "_view_count": null,
            "_view_module": "@jupyter-widgets/controls",
            "_view_module_version": "1.5.0",
            "_view_name": "HTMLView",
            "description": "",
            "description_tooltip": null,
            "layout": "IPY_MODEL_4e2e9a7d271b47f3aadfda0779b6b1f8",
            "placeholder": "​",
            "style": "IPY_MODEL_fa52f025a21d487aa1d3b0fe1fe88bf7",
            "value": " 0/50 [00:00&lt;?, ?it/s]"
          }
        },
        "329c68320fb742a492c37422b9d81dd2": {
          "model_module": "@jupyter-widgets/base",
          "model_name": "LayoutModel",
          "model_module_version": "1.2.0",
          "state": {
            "_model_module": "@jupyter-widgets/base",
            "_model_module_version": "1.2.0",
            "_model_name": "LayoutModel",
            "_view_count": null,
            "_view_module": "@jupyter-widgets/base",
            "_view_module_version": "1.2.0",
            "_view_name": "LayoutView",
            "align_content": null,
            "align_items": null,
            "align_self": null,
            "border": null,
            "bottom": null,
            "display": null,
            "flex": null,
            "flex_flow": null,
            "grid_area": null,
            "grid_auto_columns": null,
            "grid_auto_flow": null,
            "grid_auto_rows": null,
            "grid_column": null,
            "grid_gap": null,
            "grid_row": null,
            "grid_template_areas": null,
            "grid_template_columns": null,
            "grid_template_rows": null,
            "height": null,
            "justify_content": null,
            "justify_items": null,
            "left": null,
            "margin": null,
            "max_height": null,
            "max_width": null,
            "min_height": null,
            "min_width": null,
            "object_fit": null,
            "object_position": null,
            "order": null,
            "overflow": null,
            "overflow_x": null,
            "overflow_y": null,
            "padding": null,
            "right": null,
            "top": null,
            "visibility": null,
            "width": null
          }
        },
        "e263d91d93a2448387a8f1b5c69ebd0b": {
          "model_module": "@jupyter-widgets/base",
          "model_name": "LayoutModel",
          "model_module_version": "1.2.0",
          "state": {
            "_model_module": "@jupyter-widgets/base",
            "_model_module_version": "1.2.0",
            "_model_name": "LayoutModel",
            "_view_count": null,
            "_view_module": "@jupyter-widgets/base",
            "_view_module_version": "1.2.0",
            "_view_name": "LayoutView",
            "align_content": null,
            "align_items": null,
            "align_self": null,
            "border": null,
            "bottom": null,
            "display": null,
            "flex": null,
            "flex_flow": null,
            "grid_area": null,
            "grid_auto_columns": null,
            "grid_auto_flow": null,
            "grid_auto_rows": null,
            "grid_column": null,
            "grid_gap": null,
            "grid_row": null,
            "grid_template_areas": null,
            "grid_template_columns": null,
            "grid_template_rows": null,
            "height": null,
            "justify_content": null,
            "justify_items": null,
            "left": null,
            "margin": null,
            "max_height": null,
            "max_width": null,
            "min_height": null,
            "min_width": null,
            "object_fit": null,
            "object_position": null,
            "order": null,
            "overflow": null,
            "overflow_x": null,
            "overflow_y": null,
            "padding": null,
            "right": null,
            "top": null,
            "visibility": null,
            "width": null
          }
        },
        "8e4b0a124cec4d5180cfc0ccd607fa15": {
          "model_module": "@jupyter-widgets/controls",
          "model_name": "DescriptionStyleModel",
          "model_module_version": "1.5.0",
          "state": {
            "_model_module": "@jupyter-widgets/controls",
            "_model_module_version": "1.5.0",
            "_model_name": "DescriptionStyleModel",
            "_view_count": null,
            "_view_module": "@jupyter-widgets/base",
            "_view_module_version": "1.2.0",
            "_view_name": "StyleView",
            "description_width": ""
          }
        },
        "b65c6d34a24b49ba9e19945a6844b763": {
          "model_module": "@jupyter-widgets/base",
          "model_name": "LayoutModel",
          "model_module_version": "1.2.0",
          "state": {
            "_model_module": "@jupyter-widgets/base",
            "_model_module_version": "1.2.0",
            "_model_name": "LayoutModel",
            "_view_count": null,
            "_view_module": "@jupyter-widgets/base",
            "_view_module_version": "1.2.0",
            "_view_name": "LayoutView",
            "align_content": null,
            "align_items": null,
            "align_self": null,
            "border": null,
            "bottom": null,
            "display": null,
            "flex": null,
            "flex_flow": null,
            "grid_area": null,
            "grid_auto_columns": null,
            "grid_auto_flow": null,
            "grid_auto_rows": null,
            "grid_column": null,
            "grid_gap": null,
            "grid_row": null,
            "grid_template_areas": null,
            "grid_template_columns": null,
            "grid_template_rows": null,
            "height": null,
            "justify_content": null,
            "justify_items": null,
            "left": null,
            "margin": null,
            "max_height": null,
            "max_width": null,
            "min_height": null,
            "min_width": null,
            "object_fit": null,
            "object_position": null,
            "order": null,
            "overflow": null,
            "overflow_x": null,
            "overflow_y": null,
            "padding": null,
            "right": null,
            "top": null,
            "visibility": null,
            "width": null
          }
        },
        "d0e113895b2c49a4bffe18e7b4a44327": {
          "model_module": "@jupyter-widgets/controls",
          "model_name": "ProgressStyleModel",
          "model_module_version": "1.5.0",
          "state": {
            "_model_module": "@jupyter-widgets/controls",
            "_model_module_version": "1.5.0",
            "_model_name": "ProgressStyleModel",
            "_view_count": null,
            "_view_module": "@jupyter-widgets/base",
            "_view_module_version": "1.2.0",
            "_view_name": "StyleView",
            "bar_color": null,
            "description_width": ""
          }
        },
        "4e2e9a7d271b47f3aadfda0779b6b1f8": {
          "model_module": "@jupyter-widgets/base",
          "model_name": "LayoutModel",
          "model_module_version": "1.2.0",
          "state": {
            "_model_module": "@jupyter-widgets/base",
            "_model_module_version": "1.2.0",
            "_model_name": "LayoutModel",
            "_view_count": null,
            "_view_module": "@jupyter-widgets/base",
            "_view_module_version": "1.2.0",
            "_view_name": "LayoutView",
            "align_content": null,
            "align_items": null,
            "align_self": null,
            "border": null,
            "bottom": null,
            "display": null,
            "flex": null,
            "flex_flow": null,
            "grid_area": null,
            "grid_auto_columns": null,
            "grid_auto_flow": null,
            "grid_auto_rows": null,
            "grid_column": null,
            "grid_gap": null,
            "grid_row": null,
            "grid_template_areas": null,
            "grid_template_columns": null,
            "grid_template_rows": null,
            "height": null,
            "justify_content": null,
            "justify_items": null,
            "left": null,
            "margin": null,
            "max_height": null,
            "max_width": null,
            "min_height": null,
            "min_width": null,
            "object_fit": null,
            "object_position": null,
            "order": null,
            "overflow": null,
            "overflow_x": null,
            "overflow_y": null,
            "padding": null,
            "right": null,
            "top": null,
            "visibility": null,
            "width": null
          }
        },
        "fa52f025a21d487aa1d3b0fe1fe88bf7": {
          "model_module": "@jupyter-widgets/controls",
          "model_name": "DescriptionStyleModel",
          "model_module_version": "1.5.0",
          "state": {
            "_model_module": "@jupyter-widgets/controls",
            "_model_module_version": "1.5.0",
            "_model_name": "DescriptionStyleModel",
            "_view_count": null,
            "_view_module": "@jupyter-widgets/base",
            "_view_module_version": "1.2.0",
            "_view_name": "StyleView",
            "description_width": ""
          }
        }
      }
    }
  },
  "cells": [
    {
      "cell_type": "code",
      "source": [
        "!pip install pytorch-tabnet\n",
        "!pip install optuna\n",
        "\n",
        "import numpy as np\n",
        "import pandas as pd\n",
        "import torch\n",
        "import torch.nn as nn\n",
        "import torch.optim as optim\n",
        "from torch.utils.data import TensorDataset, DataLoader\n",
        "\n",
        "import optuna\n",
        "from google.colab import output\n",
        "\n",
        "from sklearn.model_selection import KFold\n",
        "from sklearn.metrics import mean_squared_error\n",
        "from pytorch_tabnet.tab_model import  TabNetRegressor\n",
        "\n",
        "output.clear()"
      ],
      "metadata": {
        "id": "u0T8S_xHsBRP"
      },
      "execution_count": 1,
      "outputs": []
    },
    {
      "cell_type": "code",
      "source": [
        "class Objective(object):\n",
        "    def __init__(self, model_name, X, y, params):\n",
        "        self.model_name = model_name\n",
        "\n",
        "        # Save the trainings data\n",
        "        self.X = X\n",
        "        self.y = y\n",
        "        self.params = params\n",
        "\n",
        "        \n",
        "    def __call__(self, trial):\n",
        "        # Define hyperparameters to optimize\n",
        "        trial_params = self.model_name.define_trial_parameters(trial, self.params)\n",
        "        print(trial_params)\n",
        "        \n",
        "        score = 0\n",
        "        # Cross validate the chosen hyperparameters\n",
        "\n",
        "        kf = KFold(self.params['nfold'], shuffle = False)\n",
        "        for train, test in kf.split(self.X):\n",
        "            X_train, y_train = self.X.iloc[train, :], self.y.iloc[train]\n",
        "            X_val, y_val = self.X.iloc[test, :], self.y.iloc[test]\n",
        "            \n",
        "            model = self.model_name(trial_params)\n",
        "            model.fit(X_train, y_train, X_val, y_val)\n",
        "            score += mean_squared_error(y_val, model.predict(X_val),\n",
        "                                        squared = self.params['squared_metrics'])\n",
        "\n",
        "        score /= self.params['nfold']\n",
        "        \n",
        "        return score\n",
        "\n",
        "\n",
        "def main(X, y, model_name, params, n_trials = 100):\n",
        "    print(\"Start hyperparameter optimization\")\n",
        "    \n",
        "    Sampler = optuna.samplers.TPESampler(seed = 777)\n",
        "    study = optuna.create_study(sampler = Sampler)\n",
        "    study.optimize(Objective(model_name, X, y, params), n_trials, show_progress_bar = True, n_jobs = 1)\n",
        "    \n",
        "    print(\"Best parameters:\", study.best_trial.params)\n",
        "\n",
        "    return study"
      ],
      "metadata": {
        "id": "MuGwONKNukQ9"
      },
      "execution_count": 2,
      "outputs": []
    },
    {
      "cell_type": "code",
      "source": [
        "class TabNet():\n",
        "\n",
        "    def __init__(self, params):\n",
        "        \n",
        "        self.model = TabNetRegressor(**params, verbose = False, device_name = 'cuda')\n",
        "        #if torch.cuda.is_available():\n",
        "        #    self.model.to('cuda')\n",
        "        \n",
        "    def fit(self, X, y, X_val=None, y_val=None):\n",
        "        X = X.to_numpy()\n",
        "        y = y.to_numpy().reshape(-1, 1)\n",
        "        \n",
        "        if isinstance(X_val, pd.DataFrame):\n",
        "            X_val, y_val = X_val.to_numpy(), y_val.to_numpy().reshape(-1, 1)\n",
        "            \n",
        "        self.model.fit(X, y, eval_set = [(X_val, y_val)], eval_name = ['eval'], max_epochs = 500, patience = 20)\n",
        "        history = self.model.history\n",
        "        return history['loss']\n",
        "\n",
        "    def predict(self, X):\n",
        "        X = np.array(X, dtype=np.float)\n",
        "\n",
        "        return self.model.predict(X)\n",
        "        \n",
        "    @classmethod\n",
        "    def define_trial_parameters(cls, trial, params):\n",
        "        params_tunable = {}\n",
        "        params_out = {}\n",
        "        for i, val in params.items():\n",
        "            if isinstance(val, list):\n",
        "                params_tunable[f'{i}'] = val\n",
        "            else:\n",
        "                params_out[f'{i}'] = val\n",
        "        \n",
        "        if 'n_d' in params_tunable:\n",
        "            params_out[f'n_d'] = trial.suggest_int('n_d', params['n_d'][0], params['n_d'][1], log = False)\n",
        "        if 'n_steps' in params_tunable:\n",
        "            params_out[f'n_steps'] = trial.suggest_int('n_steps', params['n_steps'][0], params['n_steps'][1], log = False)\n",
        "        if 'gamma' in params_tunable:\n",
        "            params_out[f'gamma'] = trial.suggest_float('gamma', params['gamma'][0], params['gamma'][1], log = False)\n",
        "        if 'cat_emb_dim' in params_tunable:\n",
        "            params_out[f'cat_emb_dim'] = trial.suggest_int('cat_emb_dim', params['cat_emb_dim'][0], params['cat_emb_dim'][1], log = False)\n",
        "        if 'n_independent' in params_tunable:\n",
        "            params_out[f'n_independent'] = trial.suggest_int('n_independent', params['n_independent'][0], params['n_independent'][1], log = False)\n",
        "        if 'n_shared' in params_tunable:\n",
        "            params_out[f'n_shared'] = trial.suggest_int('n_shared', params['n_shared'][0], params['n_shared'][1], log = False)\n",
        "        if 'momentum' in params_tunable:\n",
        "            params_out[f'momentum'] = trial.suggest_float('momentum', params['momentum'][0], params['momentum'][1], log = True)\n",
        "        if 'mask_type' in params_tunable:\n",
        "            params_out[f'mask_type'] = trial.suggest_categorical('mask_type', params['mask_type'])\n",
        "        \n",
        "        \n",
        "        if 'nfold' in params_out:\n",
        "            del params_out['nfold']\n",
        "        if 'squared_metrics' in params_out:\n",
        "            del params_out['squared_metrics']\n",
        "        \n",
        "        return params_out"
      ],
      "metadata": {
        "id": "GKqdTyCVtzwO"
      },
      "execution_count": 12,
      "outputs": []
    },
    {
      "cell_type": "code",
      "source": [
        "np.random.seed(7)\n",
        "X = np.random.randint(0, 11, size = (745, 50))\n",
        "y = np.random.rand(745) * 175"
      ],
      "metadata": {
        "id": "Nwpw5oRFsGup"
      },
      "execution_count": 9,
      "outputs": []
    },
    {
      "cell_type": "code",
      "source": [
        "X = pd.DataFrame(X)\n",
        "y = pd.DataFrame(y)\n",
        "\n",
        "torch.cuda.is_available()"
      ],
      "metadata": {
        "id": "AZml6V81u4M_",
        "outputId": "7ff277cf-606a-49e4-a839-c61db0d2d839",
        "colab": {
          "base_uri": "https://localhost:8080/"
        }
      },
      "execution_count": 10,
      "outputs": [
        {
          "output_type": "execute_result",
          "data": {
            "text/plain": [
              "True"
            ]
          },
          "metadata": {},
          "execution_count": 10
        }
      ]
    },
    {
      "cell_type": "code",
      "source": [
        "TabNet_params = {\n",
        "    'n_d' : [2, 10],\n",
        "    'n_steps' : [1, 25],\n",
        "    'gamma' : [1., 2.],\n",
        "    'n_independent' : [1, 20],\n",
        "    'n_shared' : [1, 20],\n",
        "    'momentum' : [1e-3, 0.4],\n",
        "    'mask_type' : ['sparsemax', 'entmax'],\n",
        "    'nfold' : 5,\n",
        "    'squared_metrics' : False\n",
        "    }\n",
        "\n",
        "model_name = TabNet\n",
        "\n",
        "TabNet_res = main(X = X, y = y, model_name = model_name, params = TabNet_params, n_trials = 50)"
      ],
      "metadata": {
        "id": "MvBbX0jFu_o8",
        "outputId": "d049fc74-888d-416e-b77a-62626d5b064e",
        "colab": {
          "base_uri": "https://localhost:8080/",
          "height": 243,
          "referenced_widgets": [
            "f2a7d4b116a242d4ba2826de4466d7ae",
            "13100b10ae5c47a89c720d52a6bbdcba",
            "105e294596c14ce98b448aef9497089f",
            "d3779e8556e0468fa68c84ec252c8712",
            "329c68320fb742a492c37422b9d81dd2",
            "e263d91d93a2448387a8f1b5c69ebd0b",
            "8e4b0a124cec4d5180cfc0ccd607fa15",
            "b65c6d34a24b49ba9e19945a6844b763",
            "d0e113895b2c49a4bffe18e7b4a44327",
            "4e2e9a7d271b47f3aadfda0779b6b1f8",
            "fa52f025a21d487aa1d3b0fe1fe88bf7"
          ]
        }
      },
      "execution_count": null,
      "outputs": [
        {
          "output_type": "stream",
          "name": "stderr",
          "text": [
            "\u001b[32m[I 2022-04-19 21:39:48,761]\u001b[0m A new study created in memory with name: no-name-ea265013-c3ef-4e06-bedf-abda67c2461d\u001b[0m\n"
          ]
        },
        {
          "output_type": "stream",
          "name": "stdout",
          "text": [
            "Start hyperparameter optimization\n"
          ]
        },
        {
          "output_type": "stream",
          "name": "stderr",
          "text": [
            "/usr/local/lib/python3.7/dist-packages/optuna/progress_bar.py:47: ExperimentalWarning: Progress bar is experimental (supported from v1.2.0). The interface can change in the future.\n",
            "  self._init_valid()\n"
          ]
        },
        {
          "output_type": "display_data",
          "data": {
            "text/plain": [
              "  0%|          | 0/50 [00:00<?, ?it/s]"
            ],
            "application/vnd.jupyter.widget-view+json": {
              "version_major": 2,
              "version_minor": 0,
              "model_id": "f2a7d4b116a242d4ba2826de4466d7ae"
            }
          },
          "metadata": {}
        },
        {
          "output_type": "stream",
          "name": "stdout",
          "text": [
            "{'n_d': 3, 'n_steps': 8, 'gamma': 1.062036414714562, 'n_independent': 10, 'n_shared': 17, 'momentum': 0.2582866324854284, 'mask_type': 'entmax'}\n",
            "\n",
            "Early stopping occurred at epoch 173 with best_epoch = 153 and best_eval_mse = 2520.85343\n",
            "Best weights from best epoch are automatically used!\n"
          ]
        },
        {
          "output_type": "stream",
          "name": "stderr",
          "text": [
            "/usr/local/lib/python3.7/dist-packages/ipykernel_launcher.py:21: DeprecationWarning: `np.float` is a deprecated alias for the builtin `float`. To silence this warning, use `float` by itself. Doing this will not modify any behavior and is safe. If you specifically wanted the numpy scalar type, use `np.float64` here.\n",
            "Deprecated in NumPy 1.20; for more details and guidance: https://numpy.org/devdocs/release/1.20.0-notes.html#deprecations\n"
          ]
        }
      ]
    }
  ]
}