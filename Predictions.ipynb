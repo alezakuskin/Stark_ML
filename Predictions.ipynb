{
 "cells": [
  {
   "cell_type": "markdown",
   "metadata": {
    "colab_type": "text",
    "id": "view-in-github"
   },
   "source": [
    "<a href=\"https://colab.research.google.com/github/alezakuskin/Stark_ML/blob/Ions/Predictions.ipynb\" target=\"_parent\"><img src=\"https://colab.research.google.com/assets/colab-badge.svg\" alt=\"Open In Colab\"/></a>"
   ]
  },
  {
   "cell_type": "code",
   "execution_count": 1,
   "metadata": {
    "cellView": "form",
    "id": "8YCdLt94xL-R"
   },
   "outputs": [],
   "source": [
    "#@title # Run this cell to get all dependencies and packages ready\n",
    "!pip install roman\n",
    "from google.colab import output\n",
    "from itertools import compress\n",
    "from sklearn.preprocessing import StandardScaler\n",
    "from urllib import request, parse\n",
    "\n",
    "import pandas as pd\n",
    "import numpy as np\n",
    "import xgboost\n",
    "import roman\n",
    "\n",
    "!git clone -b Ions https://github.com/alezakuskin/Stark_ML\n",
    "from Stark_ML.utils.terms import *\n",
    "output.clear()"
   ]
  },
  {
   "cell_type": "code",
   "execution_count": 3,
   "metadata": {
    "cellView": "form",
    "colab": {
     "base_uri": "https://localhost:8080/"
    },
    "id": "Agrq23ixTUAB",
    "outputId": "37259483-eed0-47b1-e395-e590a08c6beb"
   },
   "outputs": [
    {
     "name": "stderr",
     "output_type": "stream",
     "text": [
      "1859it [00:13, 133.15it/s]\n"
     ]
    },
    {
     "name": "stdout",
     "output_type": "stream",
     "text": [
      "23 lines could not be encoded correctly. Please, check them manually in for_manual_check.txt\n",
      "1836 lines were encoded correctly.\n"
     ]
    }
   ],
   "source": [
    "#@title #Request data from NIST\n",
    "spectra = 'Fe I' #@param {type: \"string\"}\n",
    "#@markdown Examples of allowed spectra:\n",
    "#@markdown **Ar I** or **Mg I-IV** or **All spectra** or **Fe I; Si IX,XI; Ni Co-like**\n",
    "\n",
    "#@markdown or **H-Ar I-II** or **Mg Li-like; Al Li-like-Be-like** or **Sc-Fe K-like-Ca-like** or **198Hg I**\n",
    "\n",
    "#@markdown\n",
    "\n",
    "#@markdown ###Enter wavelength in *nm*:\n",
    "lower = 400 #@param {type: \"number\"}\n",
    "upper = 600 #@param {type: \"number\"}\n",
    "\n",
    "#@markdown\n",
    "\n",
    "#@markdown ###Would you like to save lines that cannot be encoded automatically to a separate file\n",
    "\n",
    "save_for_manual_check = True #@param {type: \"boolean\"}\n",
    "\n",
    "nist_params = { # error if not commented and equals 0\n",
    "    'spectra': spectra,\n",
    "    'limits_type': 0,\n",
    "    'low_w': lower,\n",
    "    'upp_w': upper,\n",
    "    'unit': 1,\n",
    "    'de': 0,\n",
    "    'I_scale_type': 1,\n",
    "    'format': 3,\n",
    "    'line_out': 0,\n",
    "    'en_unit': 0,\n",
    "    'output': 0,\n",
    "    #'bibrefs': 1,\n",
    "    'page_size': 15,\n",
    "    'show_obs_wl': 1,\n",
    "    'show_calc_wl': 1,\n",
    "    #'unc_out': 0,\n",
    "    'order_out': 0,\n",
    "    'max_low_enrg': '',\n",
    "    'show_av': 2,\n",
    "    'max_upp_enrg': '',\n",
    "    'tsb_value': 0,\n",
    "    'min_str': '',\n",
    "    #'A_out': 0,\n",
    "    #'intens_out': 'off',\n",
    "    'max_str': '',\n",
    "    'allowed_out': 1,\n",
    "    'forbid_out': 1,\n",
    "    'min_accur': '',\n",
    "    'min_intens': '',\n",
    "    'conf_out': 'on',\n",
    "    'term_out': 'on',\n",
    "    'enrg_out': 'on',\n",
    "    'J_out': 'on',\n",
    "    #'g_out': 'on',\n",
    "    #'remove_js': 'on',\n",
    "    #'no_spaces': 'on',\n",
    "    #'show_diff_obs_calc': 0,\n",
    "    #'show_wn': 1,\n",
    "    #'f_out': 'off',\n",
    "    #'S_out': 'off',\n",
    "    #'loggf_out': 'off',\n",
    "    'submit': 'Retrieve Data',\n",
    "}\n",
    "\n",
    "url = 'https://physics.nist.gov/cgi-bin/ASD/lines1.pl?'\n",
    "data = parse.urlencode(nist_params)\n",
    "req =  request.Request(url+data)\n",
    "with request.urlopen(req) as resp:\n",
    "    df = pd.read_csv(resp, sep='\\t')\n",
    "if 'sp_num' in list(df.columns):\n",
    "    df = df.drop(df.loc[df['sp_num'] == 'sp_num'].index)\n",
    "\n",
    "data_i = pd.read_excel(Stark_ML.__path__.__dict__['_path'][0] + '/Source_files/Stark_data.xlsx',\n",
    "                       sheet_name='Ions',\n",
    "                       usecols='A:BM',\n",
    "                       nrows = 2\n",
    "                   )\n",
    "\n",
    "request_df = split_OK_check(NIST_to_StarkML(df, data_i, spectra), save_manual_check = save_for_manual_check)"
   ]
  },
  {
   "cell_type": "code",
   "execution_count": 4,
   "metadata": {
    "cellView": "form",
    "colab": {
     "base_uri": "https://localhost:8080/"
    },
    "id": "NKlD7odsxprC",
    "outputId": "74a4eff1-d22e-4cb7-e1e4-79db53efc375"
   },
   "outputs": [
    {
     "name": "stderr",
     "output_type": "stream",
     "text": [
      "/content/Stark_ML/utils/terms.py:37: FutureWarning: The default dtype for empty Series will be 'object' instead of 'float64' in a future version. Specify a dtype explicitly to silence this warning.\n",
      "  gap = pd.Series()\n",
      "/usr/local/lib/python3.10/dist-packages/sklearn/base.py:432: UserWarning: X has feature names, but StandardScaler was fitted without feature names\n",
      "  warnings.warn(\n"
     ]
    }
   ],
   "source": [
    "#@title #The main part\n",
    "#@markdown Currently your will get results on the NIST query above.\n",
    "\n",
    "#@markdown You can upload you own *.txt* file or manually sanitized *for_manual_check.txt* to the panel on the left and specify the filename:\n",
    "\n",
    "filename = 'requested_lines.txt' #@param {type:\"string\"}\n",
    "filename = 'Stark_ML/' + filename\n",
    "\n",
    "#@markdown Select whether you would like to get predictions for a single tempeature value or for a temperature range\n",
    "Temperature_mode = 'range' #@param ['single', 'range']\n",
    "\n",
    "#@markdown If you selected *range* in the previous field, specify all three parameters here:\n",
    "Low_T = 8000   #@param {type: \"number\"}\n",
    "High_T = 10000 #@param {type: \"number\"}\n",
    "T_step = 500  #@param {type: \"number\"}\n",
    "\n",
    "#Importing pretrained model\n",
    "model = xgboost.XGBRegressor()\n",
    "model.load_model('Stark_ML/XGBoost_Pretrained.json')\n",
    "\n",
    "#Constructing Standard Scaler\n",
    "scaler = StandardScaler()\n",
    "scaler.mean_  = np.loadtxt('Stark_ML/scaler_mean.txt')\n",
    "scaler.scale_ = np.loadtxt('Stark_ML/scaler_scale.txt')\n",
    "\n",
    "\n",
    "#Loading linelist\n",
    "try:\n",
    "    data_predictions = pd.read_csv(filename,\n",
    "                                   index_col = 0\n",
    "                                   )\n",
    "except:\n",
    "    data_predictions = pd.read_csv(filename[9:],\n",
    "                                     index_col = 0\n",
    "                                     )\n",
    "\n",
    "\n",
    "#Data preprocessing\n",
    "#data_predictions['Term'] = term_to_number(data_predictions['Term'])\n",
    "#data_predictions['Term.1'] = term_to_number(data_predictions['Term.1'])\n",
    "data_predictions.insert(data_predictions.columns.get_loc('E upper')+1, 'Gap to ion', 0)\n",
    "data_predictions['Gap to ion'] = gap_to_ion(data_predictions, 'E upper')\n",
    "\n",
    "if Temperature_mode == 'single':\n",
    "    print('here')\n",
    "    dtypes = data_predictions.dtypes.to_dict()\n",
    "    for index, row in data_predictions.iterrows():\n",
    "        data_predictions.loc[index, 'T'] = Low_T\n",
    "    data_predictions = data_predictions.astype(dtypes)\n",
    "\n",
    "if Temperature_mode == 'range':\n",
    "    dtypes = data_predictions.dtypes.to_dict()\n",
    "    Ts = np.arange(Low_T, High_T + 1, T_step)\n",
    "    for index, row in data_predictions.iterrows():\n",
    "        for T in Ts:\n",
    "            row['T'] = T\n",
    "            data_predictions = pd.concat([data_predictions, row.to_frame().T], ignore_index=True)\n",
    "    data_predictions = data_predictions.astype(dtypes)\n",
    "\n",
    "#Getting predictions\n",
    "epsilon = 1e-3\n",
    "preds = model.predict(pd.DataFrame(scaler.transform(data_predictions.drop(columns=['Element', 'Wavelength', 'Z number', 'w (A)', 'd (A)']))))\n",
    "preds = (np.exp(preds) - 1) * epsilon\n",
    "\n",
    "\n",
    "#building output file\n",
    "columns = ['Element', 'Charge', 'Wavelength', 'T', 'w (A)']\n",
    "#@markdown\n",
    "\n",
    "#@markdown ###Select additional transition parameters you would like to include in output file\n",
    "Element_symbol = True  #@param {type: 'boolean'}\n",
    "Wavelength     = True  #@param {type: 'boolean'}\n",
    "Temperature    = True  #@param {type: 'boolean'}\n",
    "Charge         = True #@param {type: 'boolean'}\n",
    "\n",
    "results = pd.DataFrame(columns = list(compress(columns, [Element_symbol, Charge, Wavelength, Temperature, True])))\n",
    "results['w (A)'] = preds\n",
    "for i in results.columns[:-1]:\n",
    "    results[i] = data_predictions[i]\n",
    "results.to_csv(f'PREDICTED_{filename[9:-4]}.csv', index = False)"
   ]
  },
  {
   "cell_type": "markdown",
   "metadata": {
    "id": "robNHUoq0E3i"
   },
   "source": [
    "## Congratulations! If the previous cell finished execution without errors, you can now download <filename.csv> file with predicted values of Stark broadening parameter.\n",
    "\n",
    "### For more details refer to Zakuskin & Labutin, 2024, MNRAS, 527, 2 or contact us: ale-zakuskin@laser.chem.msu.ru"
   ]
  }
 ],
 "metadata": {
  "colab": {
   "include_colab_link": true,
   "provenance": []
  },
  "kernelspec": {
   "display_name": "Python 3 (ipykernel)",
   "language": "python",
   "name": "python3"
  },
  "language_info": {
   "codemirror_mode": {
    "name": "ipython",
    "version": 3
   },
   "file_extension": ".py",
   "mimetype": "text/x-python",
   "name": "python",
   "nbconvert_exporter": "python",
   "pygments_lexer": "ipython3",
   "version": "3.11.5"
  }
 },
 "nbformat": 4,
 "nbformat_minor": 1
}
