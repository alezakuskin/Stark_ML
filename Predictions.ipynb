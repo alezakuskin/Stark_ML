{
  "nbformat": 4,
  "nbformat_minor": 0,
  "metadata": {
    "colab": {
      "provenance": [],
      "authorship_tag": "ABX9TyNyPZXqQXp+e707X9/wodFF",
      "include_colab_link": true
    },
    "kernelspec": {
      "name": "python3",
      "display_name": "Python 3"
    },
    "language_info": {
      "name": "python"
    }
  },
  "cells": [
    {
      "cell_type": "markdown",
      "metadata": {
        "id": "view-in-github",
        "colab_type": "text"
      },
      "source": [
        "<a href=\"https://colab.research.google.com/github/alezakuskin/Stark_ML/blob/Main/Predictions.ipynb\" target=\"_parent\"><img src=\"https://colab.research.google.com/assets/colab-badge.svg\" alt=\"Open In Colab\"/></a>"
      ]
    },
    {
      "cell_type": "code",
      "source": [
        "#@title # Run this cell to get all dependencies and packages ready\n",
        "from google.colab import output\n",
        "from itertools import compress\n",
        "\n",
        "import pandas as pd\n",
        "import numpy as np\n",
        "import xgboost\n",
        "\n",
        "!git clone -b Main https://github.com/alezakuskin/Stark_ML\n",
        "from Stark_ML.utils.terms import *\n",
        "output.clear()"
      ],
      "metadata": {
        "id": "8YCdLt94xL-R",
        "cellView": "form"
      },
      "execution_count": 50,
      "outputs": []
    },
    {
      "cell_type": "code",
      "source": [
        "#@title Max width value\n",
        "#@markdown ### By default your will get results on test linelist Example.xlsx.\n",
        "\n",
        "#@markdown ###To get predictions on lines of your interest, please fill and upload (section 'Files' on the left panel) your own .xslx file and specify its name in the field below:\n",
        "\n",
        "filename = 'Example.xlsx' #@param {type:\"string\"}\n",
        "filename = 'Stark_ML/' + filename\n",
        "\n",
        "\n",
        "#Importing pretrained model\n",
        "model = xgboost.XGBRegressor()\n",
        "model.load_model('Stark_ML/XGB_pretrained.json')\n",
        "\n",
        "\n",
        "#Loading linelist\n",
        "try:\n",
        "    data_predictions = pd.read_excel(filename,\n",
        "                     sheet_name='Sheet1',\n",
        "                     usecols='A:BC'\n",
        "                   )\n",
        "except:\n",
        "    data_predictions = pd.read_excel(filename[9:],\n",
        "                     sheet_name='Sheet1',\n",
        "                     usecols='A:BC'\n",
        "                   )\n",
        "\n",
        "\n",
        "#Data preprocessing\n",
        "data_predictions['Term'] = term_to_number(data_predictions['Term'])\n",
        "data_predictions['Term.1'] = term_to_number(data_predictions['Term.1'])\n",
        "\n",
        "\n",
        "#Getting predictions\n",
        "epsilon = 1e-3\n",
        "preds = model.predict(data_predictions.drop(columns=['Element', 'Wavelength', 'Z number', 'w (A)', 'd (A)']))\n",
        "preds = (np.exp(preds) - 1) * epsilon\n",
        "\n",
        "\n",
        "#building output file\n",
        "columns = ['Element', 'Wavelength', 'T', 'w (A)']\n",
        "#@markdown \n",
        "\n",
        "#@markdown ###Select additional transition parameters you would like to include in output file\n",
        "Element_symbol = True #@param {type: 'boolean'}\n",
        "Wavelength = True #@param {type: 'boolean'}\n",
        "Temperature = True #@param {type: 'boolean'}\n",
        "\n",
        "results = pd.DataFrame(columns = list(compress(columns, [Element_symbol, Wavelength, Temperature, True])))\n",
        "results['w (A)'] = preds\n",
        "for i in results.columns[:-1]:\n",
        "    results[i] = data_predictions[i]\n",
        "results.to_csv(filename[9:-5] + '.csv', index = False)"
      ],
      "metadata": {
        "colab": {
          "base_uri": "https://localhost:8080/"
        },
        "id": "NKlD7odsxprC",
        "outputId": "b98390f9-aa0c-47a8-c4de-b70c62490409",
        "cellView": "form"
      },
      "execution_count": 61,
      "outputs": [
        {
          "output_type": "stream",
          "name": "stdout",
          "text": [
            "[14:27:28] WARNING: /workspace/src/objective/regression_obj.cu:152: reg:linear is now deprecated in favor of reg:squarederror.\n"
          ]
        }
      ]
    },
    {
      "cell_type": "markdown",
      "source": [
        "## Congratulations! If the previous cell finished execution without errors, you can now download <filename.csv> file with predicted values of Stark broadening parameter.\n",
        "\n",
        "### For more details refer to 'paper' or contact us: ale-zakuskin@laser.chem.msu.ru"
      ],
      "metadata": {
        "id": "robNHUoq0E3i"
      }
    }
  ]
}