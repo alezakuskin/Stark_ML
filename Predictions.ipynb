{
  "nbformat": 4,
  "nbformat_minor": 0,
  "metadata": {
    "colab": {
      "provenance": []
    },
    "kernelspec": {
      "name": "python3",
      "display_name": "Python 3"
    },
    "language_info": {
      "name": "python"
    }
  },
  "cells": [
    {
      "cell_type": "code",
      "source": [
        "#@title # Run this cell to get all dependencies and packages ready\n",
        "from google.colab import output\n",
        "from itertools import compress\n",
        "from sklearn.preprocessing import StandardScaler\n",
        "\n",
        "import pandas as pd\n",
        "import numpy as np\n",
        "import xgboost\n",
        "\n",
        "!git clone -b Main https://github.com/alezakuskin/Stark_ML\n",
        "from Stark_ML.utils.terms import *\n",
        "output.clear()"
      ],
      "metadata": {
        "id": "8YCdLt94xL-R"
      },
      "execution_count": 13,
      "outputs": []
    },
    {
      "cell_type": "code",
      "source": [
        "#@title #The main part\n",
        "#@markdown ### By default your will get results on test linelist Example.xlsx.\n",
        "\n",
        "#@markdown ###To get predictions on lines of your interest, please fill and upload (section 'Files' on the left panel) your own .xslx file and specify its name in the field below:\n",
        "\n",
        "filename = 'Andrey.xlsx' #@param {type:\"string\"}\n",
        "filename = 'Stark_ML/' + filename\n",
        "\n",
        "#@markdown Select whether you would like to get predictions for a single tempeature value or for a temperature range\n",
        "Temperature_mode = 'range' #@param ['single', 'range']\n",
        "\n",
        "#@markdown If you selected 'range' in the previous field, specify parameters here:\n",
        "Low_T = 3000   #@param {type: \"number\"}\n",
        "High_T = 12000 #@param {type: \"number\"}\n",
        "T_step = 250  #@param {type: \"number\"}\n",
        "\n",
        "#Importing pretrained model\n",
        "model = xgboost.XGBRegressor()\n",
        "model.load_model('Stark_ML/XGBoost_Pretrained.json')\n",
        "\n",
        "#Constructing Standard Scaler\n",
        "scaler = StandardScaler()\n",
        "scaler.mean_  = np.loadtxt('Stark_ML/scaler_mean.txt')\n",
        "scaler.scale_ = np.loadtxt('Stark_ML/scaler_scale.txt')\n",
        "\n",
        "\n",
        "#Loading linelist\n",
        "try:\n",
        "    data_predictions = pd.read_excel(filename,\n",
        "                     sheet_name='Sheet1',\n",
        "                     usecols='A:BM'\n",
        "                   )\n",
        "except:\n",
        "    data_predictions = pd.read_excel(filename[9:],\n",
        "                     sheet_name='Sheet1',\n",
        "                     usecols='A:BM'\n",
        "                   )\n",
        "\n",
        "\n",
        "#Data preprocessing\n",
        "data_predictions['Term'] = term_to_number(data_predictions['Term'])\n",
        "data_predictions['Term.1'] = term_to_number(data_predictions['Term.1'])\n",
        "data_predictions.insert(data_predictions.columns.get_loc('E upper')+1, 'Gap to ion', 0)\n",
        "data_predictions['Gap to ion'] = gap_to_ion(data_predictions, 'E upper')\n",
        "\n",
        "if Temperature_mode == 'range':\n",
        "    dtypes = data_predictions.dtypes.to_dict()\n",
        "    Ts = np.arange(Low_T, High_T + 1, T_step)\n",
        "    for index, row in data_predictions.iterrows():\n",
        "        for T in Ts:\n",
        "            row['T'] = T\n",
        "            data_predictions = pd.concat([data_predictions, row.to_frame().T], ignore_index=True)\n",
        "    data_predictions = data_predictions.astype(dtypes)\n",
        "\n",
        "#Getting predictions\n",
        "epsilon = 1e-3\n",
        "preds = model.predict(pd.DataFrame(scaler.transform(data_predictions.drop(columns=['Element', 'Wavelength', 'Z number', 'w (A)', 'd (A)']))))\n",
        "preds = (np.exp(preds) - 1) * epsilon\n",
        "\n",
        "\n",
        "#building output file\n",
        "columns = ['Element', 'Charge', 'Wavelength', 'T', 'w (A)']\n",
        "#@markdown \n",
        "\n",
        "#@markdown ###Select additional transition parameters you would like to include in output file\n",
        "Element_symbol = True  #@param {type: 'boolean'}\n",
        "Wavelength     = True  #@param {type: 'boolean'}\n",
        "Temperature    = True  #@param {type: 'boolean'}\n",
        "Charge         = False #@param {type: 'boolean'}\n",
        "\n",
        "results = pd.DataFrame(columns = list(compress(columns, [Element_symbol, Charge, Wavelength, Temperature, True])))\n",
        "results['w (A)'] = preds\n",
        "for i in results.columns[:-1]:\n",
        "    results[i] = data_predictions[i]\n",
        "results.to_csv(filename[9:-5] + '.csv', index = False)"
      ],
      "metadata": {
        "colab": {
          "base_uri": "https://localhost:8080/"
        },
        "id": "NKlD7odsxprC",
        "outputId": "794d2d7d-36a7-40f9-9f68-9cf0faa00e6d"
      },
      "execution_count": 21,
      "outputs": [
        {
          "output_type": "stream",
          "name": "stderr",
          "text": [
            "/content/Stark_ML/utils/terms.py:6: FutureWarning: The default dtype for empty Series will be 'object' instead of 'float64' in a future version. Specify a dtype explicitly to silence this warning.\n",
            "  momentum = pd.Series()\n",
            "/content/Stark_ML/utils/terms.py:6: FutureWarning: The default dtype for empty Series will be 'object' instead of 'float64' in a future version. Specify a dtype explicitly to silence this warning.\n",
            "  momentum = pd.Series()\n",
            "/content/Stark_ML/utils/terms.py:34: FutureWarning: The default dtype for empty Series will be 'object' instead of 'float64' in a future version. Specify a dtype explicitly to silence this warning.\n",
            "  gap = pd.Series()\n",
            "/usr/local/lib/python3.10/dist-packages/sklearn/base.py:432: UserWarning: X has feature names, but StandardScaler was fitted without feature names\n",
            "  warnings.warn(\n"
          ]
        }
      ]
    },
    {
      "cell_type": "markdown",
      "source": [
        "## Congratulations! If the previous cell finished execution without errors, you can now download <filename.csv> file with predicted values of Stark broadening parameter.\n",
        "\n",
        "### For more details refer to 'paper' or contact us: ale-zakuskin@laser.chem.msu.ru"
      ],
      "metadata": {
        "id": "robNHUoq0E3i"
      }
    }
  ]
}