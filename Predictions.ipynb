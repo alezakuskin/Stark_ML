{
  "nbformat": 4,
  "nbformat_minor": 0,
  "metadata": {
    "colab": {
      "provenance": [],
      "authorship_tag": "ABX9TyOaPQCBi0ntnVLHt3fwhg3G",
      "include_colab_link": true
    },
    "kernelspec": {
      "name": "python3",
      "display_name": "Python 3"
    },
    "language_info": {
      "name": "python"
    }
  },
  "cells": [
    {
      "cell_type": "markdown",
      "metadata": {
        "id": "view-in-github",
        "colab_type": "text"
      },
      "source": [
        "<a href=\"https://colab.research.google.com/github/alezakuskin/Stark_ML/blob/main/Predictions.ipynb\" target=\"_parent\"><img src=\"https://colab.research.google.com/assets/colab-badge.svg\" alt=\"Open In Colab\"/></a>"
      ]
    },
    {
      "cell_type": "code",
      "source": [
        "#@title # Run this cell to get all dependencies and packages ready\n",
        "from google.colab import output\n",
        "from itertools import compress\n",
        "\n",
        "import pandas as pd\n",
        "import numpy as np\n",
        "import xgboost\n",
        "\n",
        "!git clone -b main https://github.com/alezakuskin/Stark_ML\n",
        "from Stark_ML.utils.terms import *\n",
        "output.clear()"
      ],
      "metadata": {
        "id": "8YCdLt94xL-R",
        "cellView": "form"
      },
      "execution_count": null,
      "outputs": []
    },
    {
      "cell_type": "code",
      "source": [
        "#@title #The main part\n",
        "#@markdown ### By default your will get results on test linelist Example.xlsx.\n",
        "\n",
        "#@markdown ###To get predictions on lines of your interest, please fill and upload (section 'Files' on the left panel) your own .xslx file and specify its name in the field below:\n",
        "\n",
        "filename = 'Example.xlsx' #@param {type:\"string\"}\n",
        "filename = 'Stark_ML/' + filename\n",
        "\n",
        "\n",
        "#Importing pretrained model\n",
        "model = xgboost.XGBRegressor()\n",
        "model.load_model('Stark_ML/XGB_pretrained.json')\n",
        "\n",
        "\n",
        "#Loading linelist\n",
        "try:\n",
        "    data_predictions = pd.read_excel(filename,\n",
        "                     sheet_name='Sheet1',\n",
        "                     usecols='A:BC'\n",
        "                   )\n",
        "except:\n",
        "    data_predictions = pd.read_excel(filename[9:],\n",
        "                     sheet_name='Sheet1',\n",
        "                     usecols='A:BC'\n",
        "                   )\n",
        "\n",
        "\n",
        "#Data preprocessing\n",
        "data_predictions['Term'] = term_to_number(data_predictions['Term'])\n",
        "data_predictions['Term.1'] = term_to_number(data_predictions['Term.1'])\n",
        "\n",
        "\n",
        "#Getting predictions\n",
        "epsilon = 1e-3\n",
        "preds = model.predict(data_predictions.drop(columns=['Element', 'Wavelength', 'Z number', 'w (A)', 'd (A)']))\n",
        "preds = (np.exp(preds) - 1) * epsilon\n",
        "\n",
        "\n",
        "#building output file\n",
        "columns = ['Element', 'Wavelength', 'T', 'w (A)']\n",
        "#@markdown\n",
        "\n",
        "#@markdown ###Select additional transition parameters you would like to include in output file\n",
        "Element_symbol = True #@param {type: 'boolean'}\n",
        "Wavelength = True #@param {type: 'boolean'}\n",
        "Temperature = True #@param {type: 'boolean'}\n",
        "\n",
        "results = pd.DataFrame(columns = list(compress(columns, [Element_symbol, Wavelength, Temperature, True])))\n",
        "results['w (A)'] = preds\n",
        "for i in results.columns[:-1]:\n",
        "    results[i] = data_predictions[i]\n",
        "results.to_csv(filename[9:-5] + '.csv', index = False)"
      ],
      "metadata": {
        "colab": {
          "base_uri": "https://localhost:8080/"
        },
        "id": "NKlD7odsxprC",
        "outputId": "231a49d2-8442-413e-fe91-fead74d63151",
        "cellView": "form"
      },
      "execution_count": null,
      "outputs": [
        {
          "output_type": "stream",
          "name": "stderr",
          "text": [
            "/content/Stark_ML/utils/terms.py:3: FutureWarning: The default dtype for empty Series will be 'object' instead of 'float64' in a future version. Specify a dtype explicitly to silence this warning.\n",
            "  momentum = pd.Series()\n",
            "/content/Stark_ML/utils/terms.py:3: FutureWarning: The default dtype for empty Series will be 'object' instead of 'float64' in a future version. Specify a dtype explicitly to silence this warning.\n",
            "  momentum = pd.Series()\n"
          ]
        }
      ]
    },
    {
      "cell_type": "markdown",
      "source": [
        "## Congratulations! If the previous cell finished execution without errors, you can now download <filename.csv> file with predicted values of Stark broadening parameter.\n",
        "\n",
        "### For more details refer to our paper:\n",
        "\n",
        "Zakuskin AS, Labutin TA. StarkML: application of machine learning to overcome lack of data on electron-impact broadening parameters. *Monthly Notices of the Royal Astronomical Society*. 2024;527(2):3139-45 https://doi.org/10.1093/mnras/stad3387\n",
        "\n",
        "### or contact us:\n",
        "ale-zakuskin@laser.chem.msu.ru"
      ],
      "metadata": {
        "id": "robNHUoq0E3i"
      }
    }
  ]
}